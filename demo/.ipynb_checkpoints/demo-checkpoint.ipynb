{
 "cells": [
  {
   "cell_type": "code",
   "execution_count": 3,
   "id": "a23b0bb4-5dd7-4bd1-aabd-77c35b755eca",
   "metadata": {},
   "outputs": [
    {
     "data": {
      "text/markdown": [
       "No way! This _is_ **awesome**"
      ]
     },
     "metadata": {},
     "output_type": "display_data"
    }
   ],
   "source": [
    "await Deno.jupyter.display(\n",
    "  {\n",
    "    \"text/markdown\": \"No way! This _is_ **awesome**\",\n",
    "  },\n",
    "  { raw: true }\n",
    ");\n"
   ]
  }
 ],
 "metadata": {
  "kernelspec": {
   "display_name": "Deno",
   "language": "typescript",
   "name": "deno"
  },
  "language_info": {
   "codemirror_mode": "typescript",
   "file_extension": ".ts",
   "mimetype": "text/x.typescript",
   "name": "typescript",
   "nbconvert_exporter": "script",
   "pygments_lexer": "typescript",
   "version": "5.6.2"
  }
 },
 "nbformat": 4,
 "nbformat_minor": 5
}
