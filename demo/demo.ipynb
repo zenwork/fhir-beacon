{
 "cells": [
  {
   "cell_type": "code",
   "id": "a23b0bb4-5dd7-4bd1-aabd-77c35b755eca",
   "metadata": {},
   "source": [
    "await Deno.jupyter.display(\n",
    "  {\n",
    "    \"text/markdown\": \"No way! This _is_ **awesome**\",\n",
    "  },\n",
    "  { raw: true }\n",
    ");\n"
   ],
   "outputs": [],
   "execution_count": null
  },
  {
   "metadata": {},
   "cell_type": "markdown",
   "source": "",
   "id": "d1461b31598a7cd6"
  },
  {
   "metadata": {},
   "cell_type": "markdown",
   "source": "",
   "id": "bc8a02042dd94bb6"
  }
 ],
 "metadata": {
  "kernelspec": {
   "display_name": "Deno",
   "language": "typescript",
   "name": "deno"
  },
  "language_info": {
   "codemirror_mode": "typescript",
   "file_extension": ".ts",
   "mimetype": "text/x.typescript",
   "name": "typescript",
   "nbconvert_exporter": "script",
   "pygments_lexer": "typescript",
   "version": "5.6.2"
  }
 },
 "nbformat": 4,
 "nbformat_minor": 5
}
