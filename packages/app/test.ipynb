{
 "cells": [
  {
   "cell_type": "code",
   "id": "976e5532-1b4a-4592-aba4-0f38d230496a",
   "metadata": {
    "jupyter": {
     "is_executing": true
    }
   },
   "source": "console.log('foo')\n",
   "outputs": [],
   "execution_count": null
  },
  {
   "metadata": {},
   "cell_type": "code",
   "outputs": [],
   "execution_count": null,
   "source": "",
   "id": "a7aba0e64c6a738"
  },
  {
   "metadata": {},
   "cell_type": "markdown",
   "source": "",
   "id": "de94ce3eb3020b2a"
  }
 ],
 "metadata": {
  "kernelspec": {
   "display_name": "Deno",
   "language": "typescript",
   "name": "deno"
  },
  "language_info": {
   "codemirror_mode": "typescript",
   "file_extension": ".ts",
   "mimetype": "text/x.typescript",
   "name": "typescript",
   "nbconvert_exporter": "script",
   "pygments_lexer": "typescript",
   "version": "5.6.2"
  }
 },
 "nbformat": 4,
 "nbformat_minor": 5
}
